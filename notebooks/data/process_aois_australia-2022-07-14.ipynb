{
 "cells": [
  {
   "cell_type": "code",
   "execution_count": 1,
   "metadata": {
    "pycharm": {
     "name": "#%%\n"
    }
   },
   "outputs": [
    {
     "data": {
      "text/plain": [
       "(147.09959654580408,\n",
       " -35.644618412374655,\n",
       " 153.02036310173182,\n",
       " -30.402318245783633)"
      ]
     },
     "execution_count": 1,
     "metadata": {},
     "output_type": "execute_result"
    }
   ],
   "source": [
    "import geopandas as gpd\n",
    "import numpy as np\n",
    "\n",
    "input_shapefile = \"/data1/ownCloud/2022-07-14_AU_Flood_Maps/AOIs/NSW_declared_8July_Merge.shp\"\n",
    "\n",
    "lgas = gpd.read_file(input_shapefile).to_crs(\"EPSG:4326\")\n",
    "lgas_bounds = lgas.bounds\n",
    "bounds_all = np.min(lgas_bounds.minx), np.min(lgas_bounds.miny), np.max(lgas_bounds.maxx), np.max(lgas_bounds.maxy)\n",
    "bounds_all"
   ]
  },
  {
   "cell_type": "code",
   "execution_count": 2,
   "metadata": {},
   "outputs": [
    {
     "data": {
      "text/plain": [
       "<AxesSubplot:>"
      ]
     },
     "execution_count": 2,
     "metadata": {},
     "output_type": "execute_result"
    },
    {
     "data": {
      "image/png": "[encoded data removed]",
      "text/plain": [
       "<Figure size 432x288 with 1 Axes>"
      ]
     },
     "metadata": {
      "needs_background": "light"
     },
     "output_type": "display_data"
    }
   ],
   "source": [
    "lgas.plot()"
   ]
  },
  {
   "cell_type": "markdown",
   "metadata": {},
   "source": [
    "## Compute existing polygons"
   ]
  },
  {
   "cell_type": "code",
   "execution_count": 3,
   "metadata": {},
   "outputs": [],
   "source": [
    "import os\n",
    "from ml4floods.data import utils\n",
    "from tqdm import tqdm"
   ]
  },
  {
   "cell_type": "code",
   "execution_count": 4,
   "metadata": {},
   "outputs": [
    {
     "name": "stderr",
     "output_type": "stream",
     "text": [
      "100%|██████████████████████████████████████████████████████████████████████████████████████████████████████████████████████████████████████████████████████████████████████| 218/218 [02:08<00:00,  1.70it/s]\n"
     ]
    },
    {
     "data": {
      "text/html": [
       "<div>\n",
       "<style scoped>\n",
       "    .dataframe tbody tr th:only-of-type {\n",
       "        vertical-align: middle;\n",
       "    }\n",
       "\n",
       "    .dataframe tbody tr th {\n",
       "        vertical-align: top;\n",
       "    }\n",
       "\n",
       "    .dataframe thead th {\n",
       "        text-align: right;\n",
       "    }\n",
       "</style>\n",
       "<table border=\"1\" class=\"dataframe\">\n",
       "  <thead>\n",
       "    <tr style=\"text-align: right;\">\n",
       "      <th></th>\n",
       "      <th>geometry</th>\n",
       "      <th>ems_code</th>\n",
       "      <th>aoi_code</th>\n",
       "      <th>date</th>\n",
       "    </tr>\n",
       "  </thead>\n",
       "  <tbody>\n",
       "    <tr>\n",
       "      <th>0</th>\n",
       "      <td>POLYGON ((147.09960 -31.24462, 147.30960 -31.2...</td>\n",
       "      <td>EMSR586</td>\n",
       "      <td>AOI01</td>\n",
       "      <td>2022-07-05</td>\n",
       "    </tr>\n",
       "    <tr>\n",
       "      <th>1</th>\n",
       "      <td>POLYGON ((147.09960 -31.04462, 147.30960 -31.0...</td>\n",
       "      <td>EMSR586</td>\n",
       "      <td>AOI02</td>\n",
       "      <td>2022-07-05</td>\n",
       "    </tr>\n",
       "    <tr>\n",
       "      <th>2</th>\n",
       "      <td>POLYGON ((147.09960 -30.84462, 147.30960 -30.8...</td>\n",
       "      <td>EMSR586</td>\n",
       "      <td>AOI03</td>\n",
       "      <td>2022-07-05</td>\n",
       "    </tr>\n",
       "    <tr>\n",
       "      <th>3</th>\n",
       "      <td>POLYGON ((147.09960 -30.64462, 147.30960 -30.6...</td>\n",
       "      <td>EMSR586</td>\n",
       "      <td>AOI04</td>\n",
       "      <td>2022-07-05</td>\n",
       "    </tr>\n",
       "    <tr>\n",
       "      <th>4</th>\n",
       "      <td>POLYGON ((147.09960 -30.44462, 147.30960 -30.4...</td>\n",
       "      <td>EMSR586</td>\n",
       "      <td>AOI05</td>\n",
       "      <td>2022-07-05</td>\n",
       "    </tr>\n",
       "    <tr>\n",
       "      <th>...</th>\n",
       "      <td>...</td>\n",
       "      <td>...</td>\n",
       "      <td>...</td>\n",
       "      <td>...</td>\n",
       "    </tr>\n",
       "    <tr>\n",
       "      <th>213</th>\n",
       "      <td>POLYGON ((150.29960 -34.64462, 150.50960 -34.6...</td>\n",
       "      <td>EMSR586</td>\n",
       "      <td>AOI95</td>\n",
       "      <td>2022-07-05</td>\n",
       "    </tr>\n",
       "    <tr>\n",
       "      <th>214</th>\n",
       "      <td>POLYGON ((150.29960 -34.44462, 150.50960 -34.4...</td>\n",
       "      <td>EMSR586</td>\n",
       "      <td>AOI96</td>\n",
       "      <td>2022-07-05</td>\n",
       "    </tr>\n",
       "    <tr>\n",
       "      <th>215</th>\n",
       "      <td>POLYGON ((150.29960 -34.24462, 150.50960 -34.2...</td>\n",
       "      <td>EMSR586</td>\n",
       "      <td>AOI97</td>\n",
       "      <td>2022-07-05</td>\n",
       "    </tr>\n",
       "    <tr>\n",
       "      <th>216</th>\n",
       "      <td>POLYGON ((150.29960 -34.04462, 150.50960 -34.0...</td>\n",
       "      <td>EMSR586</td>\n",
       "      <td>AOI98</td>\n",
       "      <td>2022-07-05</td>\n",
       "    </tr>\n",
       "    <tr>\n",
       "      <th>217</th>\n",
       "      <td>POLYGON ((150.29960 -33.84462, 150.50960 -33.8...</td>\n",
       "      <td>EMSR586</td>\n",
       "      <td>AOI99</td>\n",
       "      <td>2022-07-05</td>\n",
       "    </tr>\n",
       "  </tbody>\n",
       "</table>\n",
       "<p>218 rows × 4 columns</p>\n",
       "</div>"
      ],
      "text/plain": [
       "                                              geometry ems_code aoi_code  \\\n",
       "0    POLYGON ((147.09960 -31.24462, 147.30960 -31.2...  EMSR586    AOI01   \n",
       "1    POLYGON ((147.09960 -31.04462, 147.30960 -31.0...  EMSR586    AOI02   \n",
       "2    POLYGON ((147.09960 -30.84462, 147.30960 -30.8...  EMSR586    AOI03   \n",
       "3    POLYGON ((147.09960 -30.64462, 147.30960 -30.6...  EMSR586    AOI04   \n",
       "4    POLYGON ((147.09960 -30.44462, 147.30960 -30.4...  EMSR586    AOI05   \n",
       "..                                                 ...      ...      ...   \n",
       "213  POLYGON ((150.29960 -34.64462, 150.50960 -34.6...  EMSR586    AOI95   \n",
       "214  POLYGON ((150.29960 -34.44462, 150.50960 -34.4...  EMSR586    AOI96   \n",
       "215  POLYGON ((150.29960 -34.24462, 150.50960 -34.2...  EMSR586    AOI97   \n",
       "216  POLYGON ((150.29960 -34.04462, 150.50960 -34.0...  EMSR586    AOI98   \n",
       "217  POLYGON ((150.29960 -33.84462, 150.50960 -33.8...  EMSR586    AOI99   \n",
       "\n",
       "          date  \n",
       "0   2022-07-05  \n",
       "1   2022-07-05  \n",
       "2   2022-07-05  \n",
       "3   2022-07-05  \n",
       "4   2022-07-05  \n",
       "..         ...  \n",
       "213 2022-07-05  \n",
       "214 2022-07-05  \n",
       "215 2022-07-05  \n",
       "216 2022-07-05  \n",
       "217 2022-07-05  \n",
       "\n",
       "[218 rows x 4 columns]"
      ]
     },
     "execution_count": 4,
     "metadata": {},
     "output_type": "execute_result"
    }
   ],
   "source": [
    "# Access parameters for ML4CC bucket\n",
    "key_json = \"/data1/ownCloud/2022-07-14_AU_Flood_Maps/ml4cc-general-access_request_pays.json\"\n",
    "os.environ[\"GOOGLE_APPLICATION_CREDENTIALS\"] = key_json\n",
    "fs = utils.get_filesystem(\"gs://ml4cc_data_lake\")\n",
    "\n",
    "# Read existing polygons from pickles on bucket\n",
    "data = []\n",
    "for meta_file in tqdm(fs.glob(\"gs://ml4cc_data_lake/0_DEV/1_Staging/operational/EMSR586/*/flood_meta/2022-07-*\")):\n",
    "    meta_file = f\"gs://{meta_file}\"\n",
    "    meta = utils.read_pickle_from_gcp(meta_file)\n",
    "    data.append({\"geometry\":meta[\"area_of_interest_polygon\"], \"ems_code\":meta[\"ems_code\"], \"aoi_code\":meta[\"aoi_code\"], \"date\":meta[\"satellite date\"]})\n",
    "data = gpd.GeoDataFrame(data,crs=\"EPSG:4326\")\n",
    "data"
   ]
  },
  {
   "cell_type": "code",
   "execution_count": 6,
   "metadata": {},
   "outputs": [
    {
     "data": {
      "text/plain": [
       "<AxesSubplot:>"
      ]
     },
     "execution_count": 6,
     "metadata": {},
     "output_type": "execute_result"
    },
    {
     "data": {
      "image/png": "[encoded data removed]",
      "text/plain": [
       "<Figure size 432x288 with 1 Axes>"
      ]
     },
     "metadata": {
      "needs_background": "light"
     },
     "output_type": "display_data"
    }
   ],
   "source": [
    "data.plot()"
   ]
  },
  {
   "cell_type": "code",
   "execution_count": 7,
   "metadata": {},
   "outputs": [],
   "source": [
    "out_file = \"/data1/ownCloud/2022-07-14_AU_Flood_Maps/AOIs_existing/2022-07-14_aois.geojson\"\n",
    "data[[\"geometry\",\"aoi_code\"]].to_file(out_file,driver=\"GeoJSON\")"
   ]
  },
  {
   "cell_type": "code",
   "execution_count": null,
   "metadata": {},
   "outputs": [],
   "source": [
    "import itertools\n",
    "from ml4floods.data.copernicusEMS.activations import generate_polygon\n",
    "from shapely.geometry import Polygon\n",
    "\n",
    "import warnings\n",
    "warnings.filterwarnings('ignore', 'Geometry is in a ', UserWarning)\n",
    "\n",
    "step = 0.20, 0.20\n",
    "size = 0.21\n",
    "\n",
    "pols_all = []\n",
    "for idx, (x_left,y_bottom) in enumerate(itertools.product(np.arange(bounds_all[0], bounds_all[2], step[0]),\n",
    "                                                          np.arange(bounds_all[1],bounds_all[3], step[1]))):\n",
    "    bounds_iter = (x_left, y_bottom, x_left+size, y_bottom+size)\n",
    "    pol = Polygon(generate_polygon(bounds_iter))\n",
    "    \n",
    "    \n",
    "    # TODO do not include pol if it does not overlap the lgas\n",
    "    lgas_overlap_polygons = lgas.intersection(pol)\n",
    "    lgas_overlap_polygons = lgas_overlap_polygons[~lgas_overlap_polygons.is_empty].copy()\n",
    "    if lgas_overlap_polygons.shape[0] == 0:\n",
    "        # print(f\"{idx} does not overlap the LGAS\")\n",
    "        continue\n",
    "    area_overlap_lga = lgas_overlap_polygons.area.sum() / pol.area\n",
    "    \n",
    "    if area_overlap_lga<=.3:\n",
    "        continue\n",
    "    \n",
    "    # do not include pol if it has high overlap with existing polygons\n",
    "    aoi_overlap_polygons = data.intersection(pol)\n",
    "    aoi_overlap_polygons = aoi_overlap_polygons[~aoi_overlap_polygons.is_empty].copy()\n",
    "    \n",
    "    area_overlap = aoi_overlap_polygons.area.sum() / pol.area\n",
    "    if area_overlap >=.3:\n",
    "        # print(f\"Do not include {idx}\")\n",
    "        continue\n",
    "    \n",
    "    pols_all.append({\"geometry\": pol, \"name\":f\"AUTOAOI{idx:04d}\"})\n",
    "    \n",
    "    \n",
    "pols_all = gpd.GeoDataFrame(pols_all,crs=\"EPSG:4326\")\n",
    "print(pols_all.shape)\n",
    "pols_all.to_file(\"/home/gonzalo/Downloads/autoaois.geojson\",driver=\"GeoJSON\")"
   ]
  },
  {
   "cell_type": "code",
   "execution_count": null,
   "metadata": {},
   "outputs": [],
   "source": [
    "pol.area\n",
    "existing_aois = .is_empty"
   ]
  },
  {
   "cell_type": "code",
   "execution_count": null,
   "metadata": {},
   "outputs": [],
   "source": [
    "(153.3362,-28.1347) - (153.6401,-28.1467) - (153.3386,-28.3836)"
   ]
  }
 ],
 "metadata": {
  "kernelspec": {
   "display_name": "Python 3 (ipykernel)",
   "language": "python",
   "name": "python3"
  },
  "language_info": {
   "codemirror_mode": {
    "name": "ipython",
    "version": 3
   },
   "file_extension": ".py",
   "mimetype": "text/x-python",
   "name": "python",
   "nbconvert_exporter": "python",
   "pygments_lexer": "ipython3",
   "version": "3.10.5"
  }
 },
 "nbformat": 4,
 "nbformat_minor": 4
}
