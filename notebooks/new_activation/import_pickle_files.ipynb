{
 "cells": [
  {
   "cell_type": "code",
   "execution_count": 1,
   "id": "3b4795c4-d6cc-4abe-8a57-538ebd1edb4d",
   "metadata": {},
   "outputs": [],
   "source": [
    "import os\n",
    "from ml4floods.data import utils\n",
    "import geopandas as gpd\n",
    "\n",
    "os.environ[\"GOOGLE_APPLICATION_CREDENTIALS\"] = \"/home/gonzalo/Downloads/ml4cc-general-access_request_pays.json\""
   ]
  },
  {
   "cell_type": "markdown",
   "id": "d5d83bfe-86af-4c4b-8b33-11e482799981",
   "metadata": {},
   "source": [
    "## Step 0: load the manually drawn polygons\n",
    "\n",
    "Polygons could be given or manually drawn using http://geojson.io/, they could also be drawn using QGIS or an automatic script. If you draw them keep them small (250 x 250 km²)"
   ]
  },
  {
   "cell_type": "code",
   "execution_count": 3,
   "id": "8600e8c9-e7f8-42f2-8465-d2874d7919a3",
   "metadata": {},
   "outputs": [
    {
     "data": {
      "text/html": [
       "<div>\n",
       "<style scoped>\n",
       "    .dataframe tbody tr th:only-of-type {\n",
       "        vertical-align: middle;\n",
       "    }\n",
       "\n",
       "    .dataframe tbody tr th {\n",
       "        vertical-align: top;\n",
       "    }\n",
       "\n",
       "    .dataframe thead th {\n",
       "        text-align: right;\n",
       "    }\n",
       "</style>\n",
       "<table border=\"1\" class=\"dataframe\">\n",
       "  <thead>\n",
       "    <tr style=\"text-align: right;\">\n",
       "      <th></th>\n",
       "      <th>name</th>\n",
       "      <th>geometry</th>\n",
       "    </tr>\n",
       "  </thead>\n",
       "  <tbody>\n",
       "    <tr>\n",
       "      <th>0</th>\n",
       "      <td>VALENCIA</td>\n",
       "      <td>POLYGON ((-0.63004 39.57777, -0.24809 39.55850...</td>\n",
       "    </tr>\n",
       "    <tr>\n",
       "      <th>1</th>\n",
       "      <td>CULLERA</td>\n",
       "      <td>POLYGON ((-0.20525 39.39594, -0.13743 39.11262...</td>\n",
       "    </tr>\n",
       "    <tr>\n",
       "      <th>2</th>\n",
       "      <td>CHIVA</td>\n",
       "      <td>POLYGON ((-0.50510 39.65064, -0.48011 39.33108...</td>\n",
       "    </tr>\n",
       "    <tr>\n",
       "      <th>3</th>\n",
       "      <td>XATIVA</td>\n",
       "      <td>POLYGON ((-0.71928 39.19532, -0.32662 39.17180...</td>\n",
       "    </tr>\n",
       "    <tr>\n",
       "      <th>4</th>\n",
       "      <td>CORTESDEPALLAS</td>\n",
       "      <td>POLYGON ((-1.02448 39.34144, -0.78175 39.34765...</td>\n",
       "    </tr>\n",
       "    <tr>\n",
       "      <th>5</th>\n",
       "      <td>SAGUNT</td>\n",
       "      <td>POLYGON ((-0.56177 39.78998, -0.09415 39.78861...</td>\n",
       "    </tr>\n",
       "    <tr>\n",
       "      <th>6</th>\n",
       "      <td>GANDIA</td>\n",
       "      <td>POLYGON ((-0.11423 39.15588, 0.03748 38.88132,...</td>\n",
       "    </tr>\n",
       "  </tbody>\n",
       "</table>\n",
       "</div>"
      ],
      "text/plain": [
       "             name                                           geometry\n",
       "0        VALENCIA  POLYGON ((-0.63004 39.57777, -0.24809 39.55850...\n",
       "1         CULLERA  POLYGON ((-0.20525 39.39594, -0.13743 39.11262...\n",
       "2           CHIVA  POLYGON ((-0.50510 39.65064, -0.48011 39.33108...\n",
       "3          XATIVA  POLYGON ((-0.71928 39.19532, -0.32662 39.17180...\n",
       "4  CORTESDEPALLAS  POLYGON ((-1.02448 39.34144, -0.78175 39.34765...\n",
       "5          SAGUNT  POLYGON ((-0.56177 39.78998, -0.09415 39.78861...\n",
       "6          GANDIA  POLYGON ((-0.11423 39.15588, 0.03748 38.88132,..."
      ]
     },
     "execution_count": 3,
     "metadata": {},
     "output_type": "execute_result"
    }
   ],
   "source": [
    "data = gpd.read_file(\"/home/gonzalo/aoi_valencia.shp\")\n",
    "data"
   ]
  },
  {
   "cell_type": "markdown",
   "id": "7b5cf6a3-c70c-4390-a310-a6884bfe1387",
   "metadata": {},
   "source": [
    "## Step 1 Save this in GCP bucket as GeoJSON"
   ]
  },
  {
   "cell_type": "code",
   "execution_count": 4,
   "id": "795cd5e5-c2e7-45bf-9d90-c0f7bf6f286f",
   "metadata": {},
   "outputs": [],
   "source": [
    "utils.write_geojson_to_gcp(\"gs://ml4cc_data_lake/0_DEV/1_Staging/operational/VAL001/aois.json\", data)"
   ]
  },
  {
   "cell_type": "markdown",
   "id": "a383b409-0d2a-4cf5-a8b0-dd36125820ec",
   "metadata": {},
   "source": [
    "## Step 2: Add the pickle files to the GCP location"
   ]
  },
  {
   "cell_type": "code",
   "execution_count": null,
   "id": "e7bed0f5-09bb-4c8d-b8b3-f0382fc69f24",
   "metadata": {},
   "outputs": [],
   "source": [
    "import datetime\n",
    "\n",
    "for row in data.itertuples():\n",
    "    ems_code = \"VAL001\"\n",
    "    aoi_code = row.name\n",
    "    satellite_date = datetime.datetime(2022, 5, 3)\n",
    "    data_save = {'satellite date': satellite_date,\n",
    "                 'area_of_interest_polygon': row.geometry,\n",
    "                 'ems_code': ems_code,\n",
    "                 'aoi_code': aoi_code,\n",
    "                 'date_ems_code': satellite_date}\n",
    "    gs_path = f\"gs://ml4cc_data_lake/0_DEV/1_Staging/operational/EMSR570/{aoi_code}/flood_meta/{satellite_date.strftime('%Y-%m-%d')}.pickle\"\n",
    "    utils.write_pickle_to_gcp(gs_path, data_save)"
   ]
  }
 ],
 "metadata": {
  "kernelspec": {
   "display_name": "Python 3 (ipykernel)",
   "language": "python",
   "name": "python3"
  },
  "language_info": {
   "codemirror_mode": {
    "name": "ipython",
    "version": 3
   },
   "file_extension": ".py",
   "mimetype": "text/x-python",
   "name": "python",
   "nbconvert_exporter": "python",
   "pygments_lexer": "ipython3",
   "version": "3.10.5"
  }
 },
 "nbformat": 4,
 "nbformat_minor": 5
}
